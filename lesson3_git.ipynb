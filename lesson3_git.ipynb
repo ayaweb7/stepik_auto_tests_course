{
 "cells": [
  {
   "cell_type": "code",
   "execution_count": null,
   "metadata": {},
   "outputs": [],
   "source": [
    "# GIT - Первые шаги: создаем аккаунт и свой первый репозиторий\n",
    "# Для начала нужно создать аккаунт на https://github.com. Выберите имя пользователя, введите почту и пароль. Лучше сразу подтвердить адрес электронной почты.\n",
    "\n",
    "# Время создать свой первый репозиторий — это место, где будет храниться ваш проект.\n",
    "\n",
    "# В правом верхнем углу рядом с аватаркой нажмите + и выберите \"New repository\".\n",
    "# Выберите имя для вашего репозитория. Лучше всего выбирать что-то осмысленное — чтобы через год легко было догадаться,\n",
    "#      что это и о чем. Например, \"stepik_auto_tests_course\".\n",
    "# Сформулируйте короткое описание для проекта. Здесь можно написать о том, что это домашние задания к курсу.\n",
    "# Выбираем Public (публичный) репозиторий: это означает, что любой сможет его найти и открыть.\n",
    "# Ставим галочку Initialize this repository with README. - Инициализируйте этот репозиторий с помощью README\n",
    "# Нажимаем кнопку Create repository. - Создать репозиторий"
   ]
  },
  {
   "cell_type": "code",
   "execution_count": null,
   "metadata": {},
   "outputs": [],
   "source": [
    "# Мануал и полезные команды\n",
    "# В этом шаге мы рассмотрим несколько полезных команд, которые вам могут пригодиться при работе с Git.\n",
    "# Для начала посмотрим, что Git умеет. Введите в консоль ключевое слово git, чтобы увидеть популярные команды:\n",
    "\n",
    "$ git\n",
    "# usage: git [--version] [--help] [-C <path>] [-c <name>=<value>]\n",
    "           [--exec-path[=<path>]] [--html-path] [--man-path] [--info-path]\n",
    "           [-p | --paginate | -P | --no-pager] [--no-replace-objects] [--bare]\n",
    "           [--git-dir=<path>] [--work-tree=<path>] [--namespace=<name>]\n",
    "           [--super-prefix=<path>] [--config-env=<name>=<envvar>]\n",
    "           <command> [<args>]\n",
    "\n",
    "# использование: git [--версия] [--help] [-C <путь>] [-c <имя>=<значение>]\n",
    "           [--exec-path[=<path>]] [--html-path] [--man-path] [--info-path]\n",
    "           [-р | --paginate | -П | --no-pager] [--no-replace-objects] [--bare]\n",
    "           [--git-dir=<путь>] [--work-tree=<путь>] [--namespace=<имя>]\n",
    "           [--super-prefix=<путь>] [--config-env=<имя>=<envvar>]\n",
    "           <команда> [<аргументы>]        \n",
    "        \n",
    "# These are common Git commands used in various situations: - Это общие команды Git, используемые в различных ситуациях:\n",
    "\n",
    "# start a working area (see also: git help tutorial) - запустить рабочую область (см. также: git help tutorial)\n",
    "   clone            Clone a repository into a new directory -\n",
    "                    Клонировать репозиторий в новый каталог\n",
    "   init             Create an empty Git repository or reinitialize an existing one -\n",
    "                    Создайте пустой репозиторий Git или повторно инициализируйте существующий\n",
    "\n",
    "    \n",
    "# work on the current change (see also: git help everyday) - работать над текущим изменением (см. также: git help каждый день)\n",
    "   add               Add file contents to the index - Добавить содержимое файла в индекс\n",
    "   mv                Move or rename a file, a directory, or a symlink - Переместить или переименовать файл, каталог или символическую ссылку\n",
    "   restore           Restore working tree files - Восстановить файлы рабочего дерева\n",
    "   rm                Remove files from the working tree and from the index - Удалить файлы из рабочего дерева и из индекса\n",
    "   sparse-checkout   Initialize and modify the sparse-checkout - Инициализировать и изменить sparse-checkout\n",
    "\n",
    "      \n",
    "# examine the history and state (see also: git help revisions) - изучить историю и состояние (см. также: версии git help)\n",
    "   bisect            Use binary search to find the commit that introduced a bug - Использовать бинарный поиск, чтобы найти фиксацию, которая привела к ошибке\n",
    "   diff              Show changes between commits, commit and working tree, etc - Показать изменения между фиксациями, фиксацией и рабочим деревом и т. д.\n",
    "   grep              Print lines matching a pattern - Вывести строки, соответствующие шаблону\n",
    "   log               Show commit logs - Показать журналы коммитов\n",
    "   show              Show various types of objects - Показать различные типы объектов\n",
    "   status            Show the working tree status - Показать статус рабочего дерева\n",
    "\n",
    "# grow, mark and tweak your common history - растите, отмечайте и корректируйте свою общую историю\n",
    "   branch            List, create, or delete branches - Список, создание или удаление ветвей\n",
    "   commit            Record changes to the repository - Записать изменения в репозиторий\n",
    "   merge             Join two or more development histories together - объединить две или более истории развития вместе\n",
    "   rebase            Reapply commits on top of another base tip - Reapply совершает коммит поверх другого базового наконечника\n",
    "   reset             Reset current HEAD to the specified state - Сбросить текущий HEAD в указанное состояние\n",
    "   switch            Switch branches - Переключить ветки\n",
    "   tag              Create, list, delete or verify a tag object signed with GPG - \n",
    "                    Создать, перечислить, удалить или проверить объект тега, подписанный с помощью GPG\n",
    "\n",
    "# collaborate (see also: git help workflows) - сотрудничать (см. также: рабочие процессы git help)\n",
    "   fetch            Download objects and refs from another repository - \n",
    "                    Загрузка объектов и ссылок из другого репозитория\n",
    "   pull             Fetch from and integrate with another repository or a local branch - \n",
    "                    Fetch и интегрировать с другим репозиторием или локальной веткой\n",
    "   push             Update remote refs along with associated objects - Обновление удаленных ссылок вместе со связанными объектами"
   ]
  },
  {
   "cell_type": "code",
   "execution_count": 1,
   "metadata": {},
   "outputs": [],
   "source": [
    "# Если вы хотите посмотреть подсказку по какой-то конкретной команде, \n",
    "# то можете ввести:\n",
    "git help <команда> # или \n",
    "git help add # или \n",
    "\n",
    "git <команда> --help\n",
    "git add --help\n",
    "# Вы увидите подробную документацию по этой команде из руководства пользователя.\n",
    "# Мануал, как и поисковик, — ваш лучший друг, не пренебрегайте его помощью."
   ]
  },
  {
   "cell_type": "code",
   "execution_count": null,
   "metadata": {},
   "outputs": [],
   "source": [
    "# Добавление изменений на сервер (push)\n",
    "\n",
    "# Необходимо наши локальные коммиты положить в удаленный репозиторий.\n",
    "# Для этого есть специальная команда git push <репозиторий><название ветки>.\n",
    "\n",
    "# Выполним команду:\n",
    "# git push origin master # Или \n",
    "git push origin main # для новых репозиториев."
   ]
  },
  {
   "cell_type": "code",
   "execution_count": null,
   "metadata": {},
   "outputs": [],
   "source": [
    "# Добавьте в репозиторий задачи из предыдущего модуля\n",
    "# Для закрепления материала предлагаем вам самостоятельно добавить файлы\n",
    "# с решениями задач из предыдущего модуля в свой репозиторий на гитхабе.\n",
    "\n",
    "# Для этого вам нужно проделать следующее:\n",
    "\n",
    "# Выберите один или несколько файлов с решениями задач из предыдущего модуля.\n",
    "# Скопируйте их в папку с вашим локальным репозиторием.\n",
    "# Добавьте файлы для отслеживания гитом.\n",
    "# Выполните коммит (не забудьте добавить осмысленное сообщение!).\n",
    "# Отправьте изменения на удаленный репозиторий.\n",
    "# В браузере убедитесь, что файлы добавлены в репозиторий.\n"
   ]
  },
  {
   "cell_type": "code",
   "execution_count": null,
   "metadata": {},
   "outputs": [],
   "source": [
    "# \n"
   ]
  },
  {
   "cell_type": "code",
   "execution_count": null,
   "metadata": {},
   "outputs": [],
   "source": [
    "# \n"
   ]
  },
  {
   "cell_type": "code",
   "execution_count": null,
   "metadata": {},
   "outputs": [],
   "source": [
    "# \n"
   ]
  }
 ],
 "metadata": {
  "kernelspec": {
   "display_name": "Python 3",
   "language": "python",
   "name": "python3"
  },
  "language_info": {
   "codemirror_mode": {
    "name": "ipython",
    "version": 3
   },
   "file_extension": ".py",
   "mimetype": "text/x-python",
   "name": "python",
   "nbconvert_exporter": "python",
   "pygments_lexer": "ipython3",
   "version": "3.8.3"
  }
 },
 "nbformat": 4,
 "nbformat_minor": 4
}
