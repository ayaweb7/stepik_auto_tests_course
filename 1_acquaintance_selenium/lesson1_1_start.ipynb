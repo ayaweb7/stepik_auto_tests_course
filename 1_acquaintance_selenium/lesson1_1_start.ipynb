{
 "cells": [
  {
   "cell_type": "code",
   "execution_count": 9,
   "metadata": {},
   "outputs": [],
   "source": [
    "# Установка Python3 в Windows\n",
    "# python --version\n",
    "\n",
    "# Установка Selenium для Python\n",
    "# pip install selenium==3.14.0\n",
    "\n",
    "# Проверим, что библиотека действительно установлена:\n",
    "# pip list"
   ]
  },
  {
   "cell_type": "code",
   "execution_count": null,
   "metadata": {},
   "outputs": [],
   "source": [
    "# Установка драйвера для браузера\n",
    "# Пример: как добавить путь в системную переменную PATH на Windows10\n",
    "\n",
    "# 1. Откройте настройки системы.\n",
    "# 2. В настройках откройте вкладку About, затем System info:\n",
    "# 3. Выберите Advanced system settings:\n",
    "# 4. Выберите Environment Variables:\n",
    "# 5. Кликните два раза на строчке Path в System variables:\n",
    "# 6. Нажмите кнопку New. Введите в новую строку путь к ChromeDriver — C:\\chromedriver. Нажмите Enter.\n",
    "#     У вас должна появится строка с указанным путем:\n",
    "# 7. Если у вас была открыта командная строка Windows, не забудьте ее закрыть.\n",
    "#     Затем откройте новую командную строку, чтобы изменения переменной окружения стали доступны.\n",
    "#     Активируйте снова виртуальное окружение selenium_env, которое мы создали в предыдущих шагах.\n",
    "#     Давайте убедимся в том, что вебдрайвер установлен правильно. \n",
    "#     Для начала проверим содержимое переменной path, для этого наберем в командной строке path:\n",
    "\n",
    "# Ура, там есть папка с chromedriver! Попробуем вызвать его напрямую из командной строки:\n",
    "#     (selenium_env) C:\\Users\\Андрей>chromedriver\n",
    "# Чтобы завершить процесс в консоли, нажмите Ctrl+C"
   ]
  },
  {
   "cell_type": "code",
   "execution_count": null,
   "metadata": {},
   "outputs": [],
   "source": [
    "# Запуск браузера и первый скрипт\n",
    "# Вы можете запустить этот же скрипт из файла. Скачайте файл get_method.py к себе в папку и запустите его.\n",
    "# Для этого создадим папку selenium_course и скопируем в нее скачанный файл. Затем запустим файл в нашем виртуальном окружении.\n",
    "\n",
    "# Пример для Windows\n",
    "\n",
    "# (Вместо user везде подставляйте имя пользователя в системе) \n",
    "# При выполнении следующих команд не забудьте изменить путь к вашей пользовательской папке вместо C:\\Users\\user и к папке с загруженным файлом.\n",
    "# Выполните следующие команды в командной строке Windows:\n",
    "\n",
    "# C:\\Users\\Андрей> mkdir selenium_course\n",
    "# C:\\Users\\Андрей> copy C:\\Users\\Андрей\\Downloads\\get_method.py C:\\Users\\Андрей\\selenium_course\n",
    "# C:\\Users\\Андрей\\user> environments\\selenium_env\\Scripts\\activate.bat\n",
    "# (selenium_env) C:\\Users\\Андрей>python C:\\Users\\Андрей\\selenium_course\\get_method.py\n"
   ]
  },
  {
   "cell_type": "code",
   "execution_count": 1,
   "metadata": {},
   "outputs": [
    {
     "name": "stdout",
     "output_type": "stream",
     "text": [
      "723128532146\n"
     ]
    }
   ],
   "source": [
    "# \n",
    "import math\n",
    "fun = lambda x : 1 if x == 1 else math.ceil(math.sinh(fun (x-1)))\n",
    "print(fun(5))"
   ]
  },
  {
   "cell_type": "code",
   "execution_count": 5,
   "metadata": {},
   "outputs": [],
   "source": [
    "# get_method.py\n",
    "# напишем скрипт, который откроет следующий шаг в данном уроке на Stepik и отправит правильное решение в задаче.\n",
    "# Рекомендуем выполнять команды последовательно по одной, чтобы лучше понять, что происходит в каждой строчке.\n",
    "\n",
    "import time\n",
    "\n",
    "# webdriver это и есть набор команд для управления браузером\n",
    "from selenium import webdriver\n",
    "\n",
    "# инициализируем драйвер браузера. После этой команды вы должны увидеть новое открытое окно браузера\n",
    "driver = webdriver.Chrome()\n",
    "\n",
    "# команда time.sleep устанавливает паузу в 5 секунд, чтобы мы успели увидеть, что происходит в браузере\n",
    "time.sleep(5)\n",
    "\n",
    "# Метод get сообщает браузеру, что нужно открыть сайт по указанной ссылке\n",
    "driver.get(\"https://stepik.org/lesson/25969/step/12\")\n",
    "time.sleep(5)\n",
    "\n",
    "# Метод find_element_by_css_selector позволяет найти нужный элемент на сайте, указав путь к нему. Способы поиска элементов мы обсудим позже\n",
    "# Ищем поле для ввода текста\n",
    "textarea = driver.find_element_by_css_selector(\".textarea\")\n",
    "\n",
    "# Напишем текст ответа в найденное поле\n",
    "textarea.send_keys(\"get()\")\n",
    "time.sleep(5)\n",
    "\n",
    "# Найдем кнопку, которая отправляет введенное решение\n",
    "submit_button = driver.find_element_by_css_selector(\".submit-submission\")\n",
    "\n",
    "# Скажем драйверу, что нужно нажать на кнопку. После этой команды мы должны увидеть сообщение о правильном ответе\n",
    "submit_button.click()\n",
    "time.sleep(5)\n",
    "\n",
    "# После выполнения всех действий мы должны не забыть закрыть окно браузера\n",
    "driver.quit()"
   ]
  },
  {
   "cell_type": "code",
   "execution_count": 13,
   "metadata": {},
   "outputs": [],
   "source": [
    "# Активируем виртуальное окружение\n",
    "# selenium_env\\Scripts\\activate.bat"
   ]
  },
  {
   "cell_type": "code",
   "execution_count": null,
   "metadata": {},
   "outputs": [],
   "source": [
    "# Создадим папку, где будут храниться наши виртуальные окружения, и перейдем в неё:\n",
    "# mkdir environments\n",
    "# cd environments\n",
    "\n",
    "# Создадим виртуальное окружение:\n",
    "# python -m venv selenium_env\n",
    "\n",
    "# Запустим созданный для нас приложением venv файл activate.bat, чтобы активировать окружение:\n",
    "# selenium_env\\Scripts\\activate.bat\n",
    "# Если окружение активировано, то мы увидим в начале командной строки терминала название окружения в круглых скобках.\n",
    "\n",
    "# Проверим, что мы можем теперь использовать Python. Запустим интерпретатор Python и напишем собственную версию HelloWorld:\n",
    "# > selenium_env\\Scripts\\activate.bat\n",
    "# (selenium_env) С:\\Users\\Андрей\\environments> python\n",
    "\n",
    "# >>> print(\"Hello, Selenium!\")\n",
    "# В итоге вы должны увидеть вывод строки \"Hello, Selenium! \"\n",
    "\n",
    "# Выйдем из интерпретатора:\n",
    "# >>> exit()"
   ]
  },
  {
   "cell_type": "code",
   "execution_count": 1,
   "metadata": {},
   "outputs": [],
   "source": [
    "from selenium import webdriver"
   ]
  },
  {
   "cell_type": "code",
   "execution_count": 6,
   "metadata": {},
   "outputs": [],
   "source": [
    "browser = webdriver.Chrome()\n",
    "browser.get(\"http://suninjuly.github.io/simple_form_find_task.html\")\n",
    "button = browser.find_element_by_id(\"submit_button\")"
   ]
  },
  {
   "cell_type": "code",
   "execution_count": null,
   "metadata": {},
   "outputs": [],
   "source": [
    "from selenium import webdriver\n",
    "from selenium.webdriver.common.by import By\n",
    "\n",
    "link = \"http://suninjuly.github.io/simple_form_find_task.html\"\n",
    "browser = webdriver.Chrome()\n",
    "browser.get(link)\n",
    "button = browser.find_element(By.ID, \"submit_button\")\n",
    "time.sleep(5)\n",
    "button.click()\n",
    "\n",
    "# закрываем браузер после всех манипуляций\n",
    "browser.quit()"
   ]
  },
  {
   "cell_type": "code",
   "execution_count": null,
   "metadata": {},
   "outputs": [],
   "source": [
    "# 1) создайте папку для хранения файлов проекта.\n",
    "# 2) сохраните в неё файл с кодом с расширением .py (это латиница)\n",
    "# 3) откройте консоль\n",
    "# 4) запустите окружение\n",
    "# 5) перейдите в папку проекта (команда cd имя_папки)\n",
    "# 6) запустите файл (команда python имя_файла.py)\n",
    "\n",
    "# C:\\pythonScript>python 1.py\n",
    "# C:\\Users\\Андрей\\Selenium>python test_1.py\n",
    "# C:\\Users\\Андрей\\Selenium>python test_2.py\n",
    "# cd C:\\Users\\Андрей\\Selenium\n",
    "# cd C:\\Users\\Андрей\\environments\n",
    "\n",
    "# python test_1.py"
   ]
  },
  {
   "cell_type": "code",
   "execution_count": null,
   "metadata": {},
   "outputs": [],
   "source": [
    "from selenium import webdriver\n",
    "from selenium.webdriver.common.by import By\n",
    "\n",
    "link = \"http://suninjuly.github.io/simple_form_find_task.html\"\n",
    "try:\n",
    "    browser = webdriver.Chrome()\n",
    "    browser.get(link)\n",
    "    button = browser.find_element(By.ID, \"submit_button\")\n",
    "    button.click()\n",
    "finally:\n",
    "    # закрываем браузер после всех манипуляций\n",
    "    browser.quit()"
   ]
  },
  {
   "cell_type": "code",
   "execution_count": null,
   "metadata": {},
   "outputs": [],
   "source": []
  },
  {
   "cell_type": "code",
   "execution_count": null,
   "metadata": {},
   "outputs": [],
   "source": [
    "# &&&&&&&&&&&&&&&&&&&&&&&&&&                      1.4. Поиск элементов                      &&&&&&&&&&&&&&&&&&&&&&&&&&"
   ]
  },
  {
   "cell_type": "code",
   "execution_count": null,
   "metadata": {},
   "outputs": [],
   "source": [
    "# Поиск по id\n",
    "\n",
    "# У элемента с нашей картинкой есть атрибут id=\"bullet\",\n",
    "# а значит, мы однозначно можем найти её с помощью селектора #bullet (знак # означает, что мы ищем по id со значением bullet)."
   ]
  },
  {
   "cell_type": "code",
   "execution_count": null,
   "metadata": {},
   "outputs": [],
   "source": [
    "# Поиск по tag\n",
    "\n",
    "# Чтобы найти элемент по тегу, просто напишите название тега в поисковой строке, как мы делали это при поиске по id\n",
    "# (только без знака #), например, h1."
   ]
  },
  {
   "cell_type": "code",
   "execution_count": null,
   "metadata": {},
   "outputs": [],
   "source": [
    "# Поиск по значению атрибута\n",
    "\n",
    "# можно переписать поиск по id в следующем виде [id=\"bullet\"] вместо #bullet.\n",
    "# Лучше использовать вариант с квадратными скобками при поиске значения атрибута для тех атрибутов,\n",
    "# у которых нет собственных коротких команд поиска.\n",
    "# Например, давайте найдем элемент h1 по значению его атрибута value: [value=\"Cat memes\"]."
   ]
  },
  {
   "cell_type": "code",
   "execution_count": null,
   "metadata": {},
   "outputs": [],
   "source": [
    "# Поиск по name\n",
    "# Этот вариант поиска является разновидностью поиска по значению атрибута и записывается так же: [name=\"bullet-cat\"]."
   ]
  },
  {
   "cell_type": "code",
   "execution_count": null,
   "metadata": {},
   "outputs": [],
   "source": [
    "# Поиск по class\n",
    "# Поиск по классу можно записать в виде [class=\"jumbotron-heading\"], так как class тоже является атрибутом элемента.\n",
    "# для них также имеется свой короткий вариант поиска: .jumbotron-heading.\n",
    "# То есть мы пишем значение класса и предваряем его точкой."
   ]
  },
  {
   "cell_type": "code",
   "execution_count": null,
   "metadata": {},
   "outputs": [],
   "source": [
    "# <article id=\"moto\" class=\"lead text-muted\" title=\"one-thing\" name=\"moto\">\n",
    "# If there's one thing that the internet was made for, it's funny cat memes.\n",
    "# </article>\n",
    "# Вариант 1. [class=\"lead\"] не найдет нам этот элемент, так как он ищет по точному совпадению.\n",
    "# Чтобы найти элемент, нам нужно будет написать [class=\"lead text-muted\"], порядок классов при этом важен.\n",
    "# [class=\"text-muted lead\"] — уже не найдет искомый элемент.\n",
    "\n",
    "# Вариант 2. .lead при этом позволит найти данный элемент, так как он ищет простое вхождение класса в элемент.\n",
    "# Для уточнения селектора можно задать также оба класса,\n",
    "# для этого нужно добавить второй класс к строке поиска без пробела и предварить его точкой: .lead.text-muted."
   ]
  },
  {
   "cell_type": "code",
   "execution_count": null,
   "metadata": {},
   "outputs": [],
   "source": []
  },
  {
   "cell_type": "code",
   "execution_count": null,
   "metadata": {},
   "outputs": [],
   "source": [
    "# Поиск элементов с помощью составных CSS-селекторов"
   ]
  },
  {
   "cell_type": "code",
   "execution_count": null,
   "metadata": {},
   "outputs": [],
   "source": [
    "# Использование потомков\n",
    "\n",
    "# Попробуем найти элемент с текстом \"Ходили купаться\".\n",
    "# Для решения этой задачи мы можем взять элемент, стоящий выше в иерархии нужного нам элемента, и написать следующий селектор:\n",
    "# #post2 .title\n",
    "\n",
    "# Здесь символ # означает, что надо искать элемент с id post2, пробел - что также нужно найти элемент-потомок,\n",
    "# а ., что элемент-потомок должен иметь класс со значением title.\n",
    "\n",
    "# Элемент .title называется потомком (англ. descendant) элемента #post2.\n",
    "# Потомок может находиться на любом уровне вложенности,\n",
    "# все элементы с селектором .title также являются и потомками элемента #posts,\n",
    "# хотя и расположены от него на два уровня ниже. #posts .title найдет все 3 элемента с классом title."
   ]
  },
  {
   "cell_type": "code",
   "execution_count": null,
   "metadata": {},
   "outputs": [],
   "source": [
    "# Использование дочерних элементов\n",
    "# Другой способ найти этот элемент:\n",
    "# #post2 > div.title\n",
    "\n",
    "# Здесь мы указали еще тег элемента div и уточнили, что нужно взять элемент с тегом и классом: div.title,\n",
    "# который находится строго на один уровень иерархии ниже чем элемент #post2. Для этого используется символ >.\n",
    "\n",
    "# Элемент #post2 в этом случае называется родителем (англ. parent) для элемента div.title,\n",
    "# а элемент div.title называется дочерним элементом (англ. child) для элемента #post2.\n",
    "# Если символа > нет, то будет выполнен поиск всех элементов div.title на любом уровне ниже первого элемента."
   ]
  },
  {
   "cell_type": "code",
   "execution_count": null,
   "metadata": {},
   "outputs": [],
   "source": [
    "# Использование порядкового номера дочернего элемента\n",
    "# Еще один способ найти этот элемент:\n",
    "# #posts > .item:nth-child(2) > .title\n",
    "\n",
    "# Псевдо-класс :nth-child(2) — позволяет найти второй по порядку элемент среди дочерних элементов для #posts.\n",
    "# Затем с помощью конструкции > .title мы указываем, что нам нужен элемент .title,\n",
    "# родителем которого является найденный ранее элемент .item."
   ]
  },
  {
   "cell_type": "code",
   "execution_count": null,
   "metadata": {},
   "outputs": [],
   "source": [
    "# Использование нескольких классов\n",
    "# Также мы можем использовать сразу несколько классов элемента, чтобы его найти.\n",
    "# Для этого классы записываются подряд через точку: .title.second"
   ]
  }
 ],
 "metadata": {
  "kernelspec": {
   "display_name": "Python 3",
   "language": "python",
   "name": "python3"
  },
  "language_info": {
   "codemirror_mode": {
    "name": "ipython",
    "version": 3
   },
   "file_extension": ".py",
   "mimetype": "text/x-python",
   "name": "python",
   "nbconvert_exporter": "python",
   "pygments_lexer": "ipython3",
   "version": "3.8.3"
  }
 },
 "nbformat": 4,
 "nbformat_minor": 4
}
